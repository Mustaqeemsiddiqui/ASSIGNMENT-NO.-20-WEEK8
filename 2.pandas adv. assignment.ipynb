{
 "cells": [
  {
   "cell_type": "markdown",
   "id": "80f2c4f2-ac90-4b18-8b6e-3585230a89b2",
   "metadata": {},
   "source": [
    "Q1. List any five functions of the pandas library with execution."
   ]
  },
  {
   "cell_type": "markdown",
   "id": "dbb7dd2a-08a5-472c-a504-7c3653274762",
   "metadata": {},
   "source": [
    "**ANSWER**:---\n",
    "\n",
    "1)'pd.read_csv()': This function is used to read a CSV file into a DataFrame.\n",
    "\n",
    "2)'df.head()': This function is used to return the first n rows of a DataFrame.\n",
    "\n",
    "3)'df.describe()': This function generates descriptive statistics that summarize the central tendency, dispersion, and shape of a dataset’s distribution.\n",
    "\n",
    "4)'df.loc[]': This function is used to access a group of rows and columns by labels or a boolean array.\n",
    "\n",
    "5)'df.tail()': function in pandas is used to return the last n rows of a DataFrame. By default, df.tail() returns the last 5 rows. \n"
   ]
  },
  {
   "cell_type": "code",
   "execution_count": 1,
   "id": "7e5c63ed-8bd6-4bf9-ab3b-a22422756794",
   "metadata": {},
   "outputs": [
    {
     "name": "stdout",
     "output_type": "stream",
     "text": [
      "DataFrame created using read_csv():\n",
      "      name   age           city\n",
      "0    Alice  30.0       New York\n",
      "1      Bob  25.0    Los Angeles\n",
      "2  Charlie  35.0        Chicago\n",
      "3    David   NaN  San Francisco\n",
      "4      Eve  29.0        Houston\n"
     ]
    }
   ],
   "source": [
    "import pandas as pd\n",
    "\n",
    "# Example 1: Read a CSV file into a DataFrame\n",
    "\n",
    "csv_data = \"\"\"\n",
    "name,age,city\n",
    "Alice,30,New York\n",
    "Bob,25,Los Angeles\n",
    "Charlie,35,Chicago\n",
    "David,,San Francisco\n",
    "Eve,29,Houston\n",
    "\"\"\"\n",
    "\n",
    "with open('sample_data.csv', 'w') as file:\n",
    "    file.write(csv_data)\n",
    "\n",
    "df = pd.read_csv('sample_data.csv')\n",
    "print(\"DataFrame created using read_csv():\")\n",
    "print(df)"
   ]
  },
  {
   "cell_type": "code",
   "execution_count": 2,
   "id": "76e5d879-2095-49fe-8765-c9bb159eb557",
   "metadata": {},
   "outputs": [
    {
     "data": {
      "text/html": [
       "<div>\n",
       "<style scoped>\n",
       "    .dataframe tbody tr th:only-of-type {\n",
       "        vertical-align: middle;\n",
       "    }\n",
       "\n",
       "    .dataframe tbody tr th {\n",
       "        vertical-align: top;\n",
       "    }\n",
       "\n",
       "    .dataframe thead th {\n",
       "        text-align: right;\n",
       "    }\n",
       "</style>\n",
       "<table border=\"1\" class=\"dataframe\">\n",
       "  <thead>\n",
       "    <tr style=\"text-align: right;\">\n",
       "      <th></th>\n",
       "      <th>name</th>\n",
       "      <th>age</th>\n",
       "      <th>city</th>\n",
       "    </tr>\n",
       "  </thead>\n",
       "  <tbody>\n",
       "    <tr>\n",
       "      <th>0</th>\n",
       "      <td>Alice</td>\n",
       "      <td>30.0</td>\n",
       "      <td>New York</td>\n",
       "    </tr>\n",
       "    <tr>\n",
       "      <th>1</th>\n",
       "      <td>Bob</td>\n",
       "      <td>25.0</td>\n",
       "      <td>Los Angeles</td>\n",
       "    </tr>\n",
       "    <tr>\n",
       "      <th>2</th>\n",
       "      <td>Charlie</td>\n",
       "      <td>35.0</td>\n",
       "      <td>Chicago</td>\n",
       "    </tr>\n",
       "    <tr>\n",
       "      <th>3</th>\n",
       "      <td>David</td>\n",
       "      <td>NaN</td>\n",
       "      <td>San Francisco</td>\n",
       "    </tr>\n",
       "    <tr>\n",
       "      <th>4</th>\n",
       "      <td>Eve</td>\n",
       "      <td>29.0</td>\n",
       "      <td>Houston</td>\n",
       "    </tr>\n",
       "  </tbody>\n",
       "</table>\n",
       "</div>"
      ],
      "text/plain": [
       "      name   age           city\n",
       "0    Alice  30.0       New York\n",
       "1      Bob  25.0    Los Angeles\n",
       "2  Charlie  35.0        Chicago\n",
       "3    David   NaN  San Francisco\n",
       "4      Eve  29.0        Houston"
      ]
     },
     "execution_count": 2,
     "metadata": {},
     "output_type": "execute_result"
    }
   ],
   "source": [
    "df[[\"name\",\"age\",\"city\"]]"
   ]
  },
  {
   "cell_type": "code",
   "execution_count": 3,
   "id": "bc3f3c30-5363-41ac-965b-3015348b5ad6",
   "metadata": {},
   "outputs": [
    {
     "name": "stdout",
     "output_type": "stream",
     "text": [
      "\n",
      "First 3 rows of the DataFrame using head():\n",
      "      name   age         city\n",
      "0    Alice  30.0     New York\n",
      "1      Bob  25.0  Los Angeles\n",
      "2  Charlie  35.0      Chicago\n"
     ]
    }
   ],
   "source": [
    "# Example 2: Display the first few rows of the DataFrame\n",
    "print(\"\\nFirst 3 rows of the DataFrame using head():\")\n",
    "print(df.head(3))\n"
   ]
  },
  {
   "cell_type": "code",
   "execution_count": 4,
   "id": "e319b9e8-929c-45cf-85d3-9328661774eb",
   "metadata": {},
   "outputs": [
    {
     "data": {
      "text/html": [
       "<div>\n",
       "<style scoped>\n",
       "    .dataframe tbody tr th:only-of-type {\n",
       "        vertical-align: middle;\n",
       "    }\n",
       "\n",
       "    .dataframe tbody tr th {\n",
       "        vertical-align: top;\n",
       "    }\n",
       "\n",
       "    .dataframe thead th {\n",
       "        text-align: right;\n",
       "    }\n",
       "</style>\n",
       "<table border=\"1\" class=\"dataframe\">\n",
       "  <thead>\n",
       "    <tr style=\"text-align: right;\">\n",
       "      <th></th>\n",
       "      <th>name</th>\n",
       "      <th>age</th>\n",
       "      <th>city</th>\n",
       "    </tr>\n",
       "  </thead>\n",
       "  <tbody>\n",
       "    <tr>\n",
       "      <th>0</th>\n",
       "      <td>Alice</td>\n",
       "      <td>30.0</td>\n",
       "      <td>New York</td>\n",
       "    </tr>\n",
       "    <tr>\n",
       "      <th>1</th>\n",
       "      <td>Bob</td>\n",
       "      <td>25.0</td>\n",
       "      <td>Los Angeles</td>\n",
       "    </tr>\n",
       "    <tr>\n",
       "      <th>2</th>\n",
       "      <td>Charlie</td>\n",
       "      <td>35.0</td>\n",
       "      <td>Chicago</td>\n",
       "    </tr>\n",
       "  </tbody>\n",
       "</table>\n",
       "</div>"
      ],
      "text/plain": [
       "      name   age         city\n",
       "0    Alice  30.0     New York\n",
       "1      Bob  25.0  Los Angeles\n",
       "2  Charlie  35.0      Chicago"
      ]
     },
     "execution_count": 4,
     "metadata": {},
     "output_type": "execute_result"
    }
   ],
   "source": [
    "df[[\"name\",\"age\",\"city\"]].head(3)"
   ]
  },
  {
   "cell_type": "code",
   "execution_count": 5,
   "id": "2219b593-78a4-45d4-928d-6d605a061154",
   "metadata": {},
   "outputs": [
    {
     "name": "stdout",
     "output_type": "stream",
     "text": [
      "\n",
      "Descriptive statistics using describe():\n",
      "             age\n",
      "count   4.000000\n",
      "mean   29.750000\n",
      "std     4.112988\n",
      "min    25.000000\n",
      "25%    28.000000\n",
      "50%    29.500000\n",
      "75%    31.250000\n",
      "max    35.000000\n"
     ]
    }
   ],
   "source": [
    "# Example 3: Generate descriptive statistics of the DataFrame\n",
    "print(\"\\nDescriptive statistics using describe():\")\n",
    "print(df.describe())"
   ]
  },
  {
   "cell_type": "code",
   "execution_count": 11,
   "id": "1fb1441a-126b-4cc4-9371-324c34e8fa34",
   "metadata": {},
   "outputs": [
    {
     "name": "stdout",
     "output_type": "stream",
     "text": [
      "\n",
      "Accessing rows where city is 'Chicago' using loc[]:\n",
      "      name   age     city\n",
      "2  Charlie  35.0  Chicago\n"
     ]
    }
   ],
   "source": [
    "# Example 4: Access specific rows and columns using loc[]\n",
    "print(\"\\nAccessing rows where city is 'Chicago' using loc[]:\")\n",
    "print(df.loc[df['city'] == 'Chicago'])\n"
   ]
  },
  {
   "cell_type": "code",
   "execution_count": 12,
   "id": "023ce2b3-a978-46a0-897c-5de8944f7f1e",
   "metadata": {},
   "outputs": [
    {
     "data": {
      "text/html": [
       "<div>\n",
       "<style scoped>\n",
       "    .dataframe tbody tr th:only-of-type {\n",
       "        vertical-align: middle;\n",
       "    }\n",
       "\n",
       "    .dataframe tbody tr th {\n",
       "        vertical-align: top;\n",
       "    }\n",
       "\n",
       "    .dataframe thead th {\n",
       "        text-align: right;\n",
       "    }\n",
       "</style>\n",
       "<table border=\"1\" class=\"dataframe\">\n",
       "  <thead>\n",
       "    <tr style=\"text-align: right;\">\n",
       "      <th></th>\n",
       "      <th>name</th>\n",
       "      <th>age</th>\n",
       "      <th>city</th>\n",
       "    </tr>\n",
       "  </thead>\n",
       "  <tbody>\n",
       "    <tr>\n",
       "      <th>2</th>\n",
       "      <td>Charlie</td>\n",
       "      <td>35.0</td>\n",
       "      <td>Chicago</td>\n",
       "    </tr>\n",
       "  </tbody>\n",
       "</table>\n",
       "</div>"
      ],
      "text/plain": [
       "      name   age     city\n",
       "2  Charlie  35.0  Chicago"
      ]
     },
     "execution_count": 12,
     "metadata": {},
     "output_type": "execute_result"
    }
   ],
   "source": [
    "df.loc[df['city'] == 'Chicago']"
   ]
  },
  {
   "cell_type": "code",
   "execution_count": 13,
   "id": "1cbc65f8-7d3c-4a9f-b337-8b42c122cd05",
   "metadata": {},
   "outputs": [
    {
     "name": "stdout",
     "output_type": "stream",
     "text": [
      "Last 5 rows of the DataFrame using tail():\n",
      "      name   age           city\n",
      "0    Alice  30.0       New York\n",
      "1      Bob  25.0    Los Angeles\n",
      "2  Charlie  35.0        Chicago\n",
      "3    David   NaN  San Francisco\n",
      "4      Eve  29.0        Houston\n"
     ]
    }
   ],
   "source": [
    "#Example 5\n",
    "print(\"Last 5 rows of the DataFrame using tail():\")\n",
    "print(df.tail())\n"
   ]
  },
  {
   "cell_type": "code",
   "execution_count": 15,
   "id": "b01d1e23-1665-4fd7-997c-d075d330f5d9",
   "metadata": {},
   "outputs": [
    {
     "data": {
      "text/html": [
       "<div>\n",
       "<style scoped>\n",
       "    .dataframe tbody tr th:only-of-type {\n",
       "        vertical-align: middle;\n",
       "    }\n",
       "\n",
       "    .dataframe tbody tr th {\n",
       "        vertical-align: top;\n",
       "    }\n",
       "\n",
       "    .dataframe thead th {\n",
       "        text-align: right;\n",
       "    }\n",
       "</style>\n",
       "<table border=\"1\" class=\"dataframe\">\n",
       "  <thead>\n",
       "    <tr style=\"text-align: right;\">\n",
       "      <th></th>\n",
       "      <th>name</th>\n",
       "      <th>age</th>\n",
       "      <th>city</th>\n",
       "    </tr>\n",
       "  </thead>\n",
       "  <tbody>\n",
       "    <tr>\n",
       "      <th>0</th>\n",
       "      <td>Alice</td>\n",
       "      <td>30.0</td>\n",
       "      <td>New York</td>\n",
       "    </tr>\n",
       "    <tr>\n",
       "      <th>1</th>\n",
       "      <td>Bob</td>\n",
       "      <td>25.0</td>\n",
       "      <td>Los Angeles</td>\n",
       "    </tr>\n",
       "    <tr>\n",
       "      <th>2</th>\n",
       "      <td>Charlie</td>\n",
       "      <td>35.0</td>\n",
       "      <td>Chicago</td>\n",
       "    </tr>\n",
       "    <tr>\n",
       "      <th>3</th>\n",
       "      <td>David</td>\n",
       "      <td>NaN</td>\n",
       "      <td>San Francisco</td>\n",
       "    </tr>\n",
       "    <tr>\n",
       "      <th>4</th>\n",
       "      <td>Eve</td>\n",
       "      <td>29.0</td>\n",
       "      <td>Houston</td>\n",
       "    </tr>\n",
       "  </tbody>\n",
       "</table>\n",
       "</div>"
      ],
      "text/plain": [
       "      name   age           city\n",
       "0    Alice  30.0       New York\n",
       "1      Bob  25.0    Los Angeles\n",
       "2  Charlie  35.0        Chicago\n",
       "3    David   NaN  San Francisco\n",
       "4      Eve  29.0        Houston"
      ]
     },
     "execution_count": 15,
     "metadata": {},
     "output_type": "execute_result"
    }
   ],
   "source": [
    "df[[\"name\",\"age\",\"city\"]].tail(5)"
   ]
  },
  {
   "cell_type": "markdown",
   "id": "a1816eec-ec7a-44d2-9f20-03e9009cb6ca",
   "metadata": {},
   "source": [
    "Q2. Given a Pandas DataFrame df with columns 'A', 'B', and 'C', write a Python function to re-index the\n",
    "DataFrame with a new index that starts from 1 and increments by 2 for each row."
   ]
  },
  {
   "cell_type": "code",
   "execution_count": 16,
   "id": "5d9f6b8f-06de-4a7e-bb48-84881e8057e0",
   "metadata": {},
   "outputs": [],
   "source": [
    "def reindex_dataframe(df):\n",
    "\n",
    "    new_index = range(1, 2 * len(df) + 1, 2)\n",
    "\n",
    "    df_reindexed = df.copy()\n",
    "    df_reindexed.index = new_index\n",
    "    \n",
    "    return df_reindexed"
   ]
  },
  {
   "cell_type": "code",
   "execution_count": 20,
   "id": "a58e9256-f439-49f5-95a3-8bdf2fefc544",
   "metadata": {},
   "outputs": [
    {
     "name": "stdout",
     "output_type": "stream",
     "text": [
      "Original DataFrame:\n",
      "    A   B   C\n",
      "0  10  15  20\n",
      "1  20  25  30\n",
      "2  30  35  40\n",
      "3  40  45  50\n",
      "4  50  55  60\n",
      "\n",
      "Re-indexed DataFrame:\n",
      "    A   B   C\n",
      "1  10  15  20\n",
      "3  20  25  30\n",
      "5  30  35  40\n",
      "7  40  45  50\n",
      "9  50  55  60\n"
     ]
    }
   ],
   "source": [
    "data = {\n",
    "    'A': [10, 20, 30, 40, 50],\n",
    "    'B': [15, 25, 35, 45, 55],\n",
    "    'C': [20, 30, 40, 50, 60]\n",
    "}\n",
    "\n",
    "df = pd.DataFrame(data)\n",
    "print(\"Original DataFrame:\")\n",
    "print(df)\n",
    "\n",
    "df_reindexed = reindex_dataframe(df)\n",
    "print(\"\\nRe-indexed DataFrame:\")\n",
    "print(df_reindexed)"
   ]
  },
  {
   "cell_type": "markdown",
   "id": "9aa79325-5af3-4d3d-a6b6-80f9d26e8900",
   "metadata": {},
   "source": [
    "Q3. You have a Pandas DataFrame df with a column named 'Values'. Write a Python function that\n",
    "iterates over the DataFrame and calculates the sum of the first three values in the 'Values' column. The\n",
    "function should print the sum to the console.\n",
    "For example, if the 'Values' column of df contains the values [10, 20, 30, 40, 50], your function should\n",
    "calculate and print the sum of the first three values, which is 60.\n"
   ]
  },
  {
   "cell_type": "code",
   "execution_count": 28,
   "id": "d6bbab5d-b96f-47b0-b8c6-104d223ff79e",
   "metadata": {},
   "outputs": [
    {
     "name": "stdout",
     "output_type": "stream",
     "text": [
      "The sum of the first three values is: 60\n"
     ]
    }
   ],
   "source": [
    "def sum_first_three_values(df):\n",
    "    if 'Values' not in df.columns:\n",
    "        print(\"DataFrame does not contain a 'Values' column.\")\n",
    "        return\n",
    "    sum_values = df['Values'][:3].sum()\n",
    "    print(f\"The sum of the first three values is: {sum_values}\")\n",
    "\n",
    "# Example \n",
    "data = {\n",
    "    'Values': [10, 20, 30, 40, 50]}\n",
    "df = pd.DataFrame(data)\n",
    "sum_first_three_values(df)\n"
   ]
  },
  {
   "cell_type": "code",
   "execution_count": 29,
   "id": "e202689b-3a4d-4abd-97d4-21bcf3a5d430",
   "metadata": {},
   "outputs": [
    {
     "name": "stdout",
     "output_type": "stream",
     "text": [
      "The sum of the first three values is: 470\n"
     ]
    }
   ],
   "source": [
    "data1= {\n",
    "    'Values': [20, 120, 330, 240, 550]}\n",
    "df1 = pd.DataFrame(data1)\n",
    "sum_first_three_values(df1)"
   ]
  },
  {
   "cell_type": "markdown",
   "id": "e6b4b6be-607f-4069-9d0c-b8fe79d5bea6",
   "metadata": {},
   "source": [
    "Q4. Given a Pandas DataFrame df with a column 'Text', write a Python function to create a new column\n",
    "'Word_Count' that contains the number of words in each row of the 'Text' column."
   ]
  },
  {
   "cell_type": "code",
   "execution_count": 23,
   "id": "03a68500-6c70-4cd0-8392-6ba19025237d",
   "metadata": {},
   "outputs": [],
   "source": [
    "def add_word_count_column(df):\n",
    "    df['Word_Count'] = df['Text'].apply(lambda x: len(str(x).split()))\n",
    "    return df"
   ]
  },
  {
   "cell_type": "code",
   "execution_count": 24,
   "id": "cd91bda4-51a7-4ce9-abdd-c0f9fcac0195",
   "metadata": {},
   "outputs": [
    {
     "name": "stdout",
     "output_type": "stream",
     "text": [
      "Original DataFrame:\n",
      "                                Text\n",
      "0                        Hello world\n",
      "1                     This is a test\n",
      "2  Pandas is great for data analysis\n",
      "3                                   \n",
      "4                   One more example\n",
      "\n",
      "DataFrame with Word_Count column:\n",
      "                                Text  Word_Count\n",
      "0                        Hello world           2\n",
      "1                     This is a test           4\n",
      "2  Pandas is great for data analysis           6\n",
      "3                                              0\n",
      "4                   One more example           3\n"
     ]
    }
   ],
   "source": [
    "data = {'Text': [\n",
    "        'Hello world',\n",
    "        'This is a test',\n",
    "        'Pandas is great for data analysis',\n",
    "        '',\n",
    "        'One more example']}\n",
    "df = pd.DataFrame(data)\n",
    "print(\"Original DataFrame:\")\n",
    "print(df)\n",
    "\n",
    "df_with_word_count = add_word_count_column(df)\n",
    "print(\"\\nDataFrame with Word_Count column:\")\n",
    "print(df_with_word_count)"
   ]
  },
  {
   "cell_type": "markdown",
   "id": "a86a9c50-7e5e-4f47-a512-b3d207dc6e9d",
   "metadata": {},
   "source": [
    "Q5. How are DataFrame.size() and DataFrame.shape() different?"
   ]
  },
  {
   "cell_type": "markdown",
   "id": "5821da25-9acf-4765-b42d-14be5d6b951b",
   "metadata": {},
   "source": [
    "Sure, here is a brief explanation:\n",
    "\n",
    "- **`DataFrame.size`**:\n",
    "  - **Description**: Total number of elements in the DataFrame.\n",
    "  - **Output**: A single integer.\n",
    "  \n",
    "\n",
    "- **`DataFrame.shape`**:\n",
    "  - **Description**: Dimensions of the DataFrame.\n",
    "  - **Output**: A tuple (number of rows, number of columns).\n",
    "  \n",
    "\n",
    "In short:\n",
    "- `df.size` tells you the total count of all elements.\n",
    "- `df.shape` tells you the structure in terms of rows and columns."
   ]
  },
  {
   "cell_type": "code",
   "execution_count": 26,
   "id": "11522ceb-a01d-425b-8a58-d466eceb6dd1",
   "metadata": {},
   "outputs": [
    {
     "data": {
      "text/plain": [
       "10"
      ]
     },
     "execution_count": 26,
     "metadata": {},
     "output_type": "execute_result"
    }
   ],
   "source": [
    "  df.size \n",
    "    "
   ]
  },
  {
   "cell_type": "code",
   "execution_count": 27,
   "id": "d282b8ef-56b4-42ec-a8ee-0c9e4c9198a5",
   "metadata": {},
   "outputs": [
    {
     "data": {
      "text/plain": [
       "(5, 2)"
      ]
     },
     "execution_count": 27,
     "metadata": {},
     "output_type": "execute_result"
    }
   ],
   "source": [
    "df.shape"
   ]
  },
  {
   "cell_type": "markdown",
   "id": "253e2790-7033-4775-814f-551cbda79562",
   "metadata": {},
   "source": [
    "Q6. Which function of pandas do we use to read an excel file?"
   ]
  },
  {
   "cell_type": "markdown",
   "id": "b5a9bb08-d93c-4eed-92f4-558467613879",
   "metadata": {},
   "source": [
    "**answer**:---\n",
    "\n",
    "To read an Excel file into a pandas DataFrame, we use the pandas.read_excel() function"
   ]
  },
  {
   "cell_type": "markdown",
   "id": "43f339e0-25b8-4507-9e07-c3c5d73eaf84",
   "metadata": {},
   "source": [
    "Q7. You have a Pandas DataFrame df that contains a column named 'Email' that contains email\n",
    "addresses in the format 'username@domain.com'. Write a Python function that creates a new column\n",
    "'Username' in df that contains only the username part of each email address.\n",
    "The username is the part of the email address that appears before the '@' symbol. For example, if the\n",
    "email address is 'john.doe@example.com', the 'Username' column should contain 'john.doe'. Your\n",
    "function should extract the username from each email address and store it in the new 'Username'\n",
    "column."
   ]
  },
  {
   "cell_type": "code",
   "execution_count": 35,
   "id": "9137df43-f580-44a4-a5c6-77fb73e48f5e",
   "metadata": {},
   "outputs": [],
   "source": [
    "df2=pd.DataFrame({\"Email\":[\"mustaqeem@gmail.com\",\"siddiqui@gmail.com\",\"krish@gmail.com\"]})"
   ]
  },
  {
   "cell_type": "code",
   "execution_count": 36,
   "id": "6a1b5061-e54c-4de2-9fe7-d63cbbb90ef5",
   "metadata": {},
   "outputs": [
    {
     "data": {
      "text/html": [
       "<div>\n",
       "<style scoped>\n",
       "    .dataframe tbody tr th:only-of-type {\n",
       "        vertical-align: middle;\n",
       "    }\n",
       "\n",
       "    .dataframe tbody tr th {\n",
       "        vertical-align: top;\n",
       "    }\n",
       "\n",
       "    .dataframe thead th {\n",
       "        text-align: right;\n",
       "    }\n",
       "</style>\n",
       "<table border=\"1\" class=\"dataframe\">\n",
       "  <thead>\n",
       "    <tr style=\"text-align: right;\">\n",
       "      <th></th>\n",
       "      <th>Email</th>\n",
       "    </tr>\n",
       "  </thead>\n",
       "  <tbody>\n",
       "    <tr>\n",
       "      <th>0</th>\n",
       "      <td>mustaqeem@gmail.com</td>\n",
       "    </tr>\n",
       "    <tr>\n",
       "      <th>1</th>\n",
       "      <td>siddiqui@gmail.com</td>\n",
       "    </tr>\n",
       "    <tr>\n",
       "      <th>2</th>\n",
       "      <td>krish@gmail.com</td>\n",
       "    </tr>\n",
       "  </tbody>\n",
       "</table>\n",
       "</div>"
      ],
      "text/plain": [
       "                 Email\n",
       "0  mustaqeem@gmail.com\n",
       "1   siddiqui@gmail.com\n",
       "2      krish@gmail.com"
      ]
     },
     "execution_count": 36,
     "metadata": {},
     "output_type": "execute_result"
    }
   ],
   "source": [
    "df2"
   ]
  },
  {
   "cell_type": "code",
   "execution_count": 44,
   "id": "1f7b7994-0760-4f4b-9d97-829201c7d0e8",
   "metadata": {},
   "outputs": [
    {
     "name": "stdout",
     "output_type": "stream",
     "text": [
      "                 Email   Username\n",
      "0  mustaqeem@gmail.com  mustaqeem\n",
      "1   siddiqui@gmail.com   siddiqui\n",
      "2      krish@gmail.com      krish\n"
     ]
    }
   ],
   "source": [
    "def extract_username(email):\n",
    "    return email.split('@')[0]\n",
    "df2['Username'] = df2['Email'].apply(extract_username)\n",
    "print(df2)"
   ]
  },
  {
   "cell_type": "code",
   "execution_count": 46,
   "id": "60abc843-b9fb-4f3d-9a0e-0d64700fee39",
   "metadata": {},
   "outputs": [
    {
     "data": {
      "text/html": [
       "<div>\n",
       "<style scoped>\n",
       "    .dataframe tbody tr th:only-of-type {\n",
       "        vertical-align: middle;\n",
       "    }\n",
       "\n",
       "    .dataframe tbody tr th {\n",
       "        vertical-align: top;\n",
       "    }\n",
       "\n",
       "    .dataframe thead th {\n",
       "        text-align: right;\n",
       "    }\n",
       "</style>\n",
       "<table border=\"1\" class=\"dataframe\">\n",
       "  <thead>\n",
       "    <tr style=\"text-align: right;\">\n",
       "      <th></th>\n",
       "      <th>Email</th>\n",
       "      <th>Username</th>\n",
       "    </tr>\n",
       "  </thead>\n",
       "  <tbody>\n",
       "    <tr>\n",
       "      <th>0</th>\n",
       "      <td>mustaqeem@gmail.com</td>\n",
       "      <td>mustaqeem</td>\n",
       "    </tr>\n",
       "    <tr>\n",
       "      <th>1</th>\n",
       "      <td>siddiqui@gmail.com</td>\n",
       "      <td>siddiqui</td>\n",
       "    </tr>\n",
       "    <tr>\n",
       "      <th>2</th>\n",
       "      <td>krish@gmail.com</td>\n",
       "      <td>krish</td>\n",
       "    </tr>\n",
       "  </tbody>\n",
       "</table>\n",
       "</div>"
      ],
      "text/plain": [
       "                 Email   Username\n",
       "0  mustaqeem@gmail.com  mustaqeem\n",
       "1   siddiqui@gmail.com   siddiqui\n",
       "2      krish@gmail.com      krish"
      ]
     },
     "execution_count": 46,
     "metadata": {},
     "output_type": "execute_result"
    }
   ],
   "source": [
    "df2[[\"Email\",\"Username\"]]"
   ]
  },
  {
   "cell_type": "markdown",
   "id": "2cf3fbc2-1db2-4358-8a90-d7039ac9c456",
   "metadata": {},
   "source": [
    "Q8. You have a Pandas DataFrame df with columns 'A', 'B', and 'C'. Write a Python function that selects\n",
    "all rows where the value in column 'A' is greater than 5 and the value in column 'B' is less than 10. The\n",
    "function should return a new DataFrame that contains only the selected rows.\n",
    "For example, if df contains the following values:\n",
    "A B C\n",
    "0 3 5 1\n",
    "1 8 2 7\n",
    "2 6 9 4\n",
    "3 2 3 5\n",
    "4 9 1 2\n",
    "Your function should select the following rows: A B C\n",
    "1 8 2 7\n",
    "4 9 1 2\n",
    "The function should return a new DataFrame that contains only the selected rows.\n"
   ]
  },
  {
   "cell_type": "code",
   "execution_count": 47,
   "id": "a5ba4e42-e1a3-4f26-9d41-97d3f2ce246b",
   "metadata": {},
   "outputs": [],
   "source": [
    "def select_rows(df4):\n",
    "    selected_rows = df4[(df4['A'] > 5) & (df4['B'] < 10)]\n",
    "    return selected_rows\n"
   ]
  },
  {
   "cell_type": "code",
   "execution_count": 48,
   "id": "02b7b9ef-6ec7-455f-b5a2-9f80dbf11b64",
   "metadata": {},
   "outputs": [],
   "source": [
    "df4 = pd.DataFrame({'A': [3, 1, 7, 3, 9],\n",
    "                   'B': [5, 8, 2, 2, 1],\n",
    "                   'C': [1, 2, 3, 4, 5]})"
   ]
  },
  {
   "cell_type": "code",
   "execution_count": 50,
   "id": "2ecaec11-7676-4fc9-bd73-fe4cb2e22818",
   "metadata": {},
   "outputs": [
    {
     "name": "stdout",
     "output_type": "stream",
     "text": [
      "   A  B  C\n",
      "2  7  2  3\n",
      "4  9  1  5\n"
     ]
    }
   ],
   "source": [
    "selected_df = select_rows(df4)\n",
    "print(selected_df)"
   ]
  },
  {
   "cell_type": "code",
   "execution_count": 51,
   "id": "fc70a87b-d87f-416a-b544-336c8709549c",
   "metadata": {},
   "outputs": [
    {
     "data": {
      "text/html": [
       "<div>\n",
       "<style scoped>\n",
       "    .dataframe tbody tr th:only-of-type {\n",
       "        vertical-align: middle;\n",
       "    }\n",
       "\n",
       "    .dataframe tbody tr th {\n",
       "        vertical-align: top;\n",
       "    }\n",
       "\n",
       "    .dataframe thead th {\n",
       "        text-align: right;\n",
       "    }\n",
       "</style>\n",
       "<table border=\"1\" class=\"dataframe\">\n",
       "  <thead>\n",
       "    <tr style=\"text-align: right;\">\n",
       "      <th></th>\n",
       "      <th>A</th>\n",
       "      <th>B</th>\n",
       "      <th>C</th>\n",
       "    </tr>\n",
       "  </thead>\n",
       "  <tbody>\n",
       "    <tr>\n",
       "      <th>2</th>\n",
       "      <td>7</td>\n",
       "      <td>2</td>\n",
       "      <td>3</td>\n",
       "    </tr>\n",
       "    <tr>\n",
       "      <th>4</th>\n",
       "      <td>9</td>\n",
       "      <td>1</td>\n",
       "      <td>5</td>\n",
       "    </tr>\n",
       "  </tbody>\n",
       "</table>\n",
       "</div>"
      ],
      "text/plain": [
       "   A  B  C\n",
       "2  7  2  3\n",
       "4  9  1  5"
      ]
     },
     "execution_count": 51,
     "metadata": {},
     "output_type": "execute_result"
    }
   ],
   "source": [
    "selected_df[[\"A\",\"B\",\"C\"]]"
   ]
  },
  {
   "cell_type": "markdown",
   "id": "f70bb637-8168-404e-8eb8-6bdc316a0111",
   "metadata": {},
   "source": [
    "Q9. Given a Pandas DataFrame df with a column 'Values', write a Python function to calculate the mean,\n",
    "median, and standard deviation of the values in the 'Values' column."
   ]
  },
  {
   "cell_type": "code",
   "execution_count": 57,
   "id": "69bd96f2-8514-4175-b225-835358ac527a",
   "metadata": {},
   "outputs": [],
   "source": [
    "def calculate_statistics(df):\n",
    "     mean_value = df['Values'].mean()\n",
    "     median_value = df['Values'].median()\n",
    "     std_deviation = df['Values'].std()\n",
    "     return mean_value, median_value, std_deviation\n"
   ]
  },
  {
   "cell_type": "code",
   "execution_count": 58,
   "id": "1f4a62e1-7b41-4760-8e4b-3d6963690fa9",
   "metadata": {},
   "outputs": [],
   "source": [
    "df = pd.DataFrame({'Values': [10, 20, 30, 40, 50]})"
   ]
  },
  {
   "cell_type": "code",
   "execution_count": 59,
   "id": "b456986a-9673-4040-b4d8-230e598d789d",
   "metadata": {},
   "outputs": [
    {
     "name": "stdout",
     "output_type": "stream",
     "text": [
      "Mean: 30.0\n",
      "Median: 30.0\n",
      "Standard Deviation: 15.811388300841896\n"
     ]
    }
   ],
   "source": [
    "mean, median, std = calculate_statistics(df)\n",
    "print(\"Mean:\", mean)\n",
    "print(\"Median:\", median)\n",
    "print(\"Standard Deviation:\", std)"
   ]
  },
  {
   "cell_type": "markdown",
   "id": "7e00518a-9ec9-4ef7-af3c-c6c52d47dfe2",
   "metadata": {},
   "source": [
    "Q10. Given a Pandas DataFrame df with a column 'Sales' and a column 'Date', write a Python function to\n",
    "create a new column 'MovingAverage' that contains the moving average of the sales for the past 7 days\n",
    "for each row in the DataFrame. The moving average should be calculated using a window of size 7 and\n",
    "should include the current day."
   ]
  },
  {
   "cell_type": "code",
   "execution_count": 60,
   "id": "4a81378e-fc4a-4418-8efd-cf6faa1a93be",
   "metadata": {},
   "outputs": [
    {
     "name": "stdout",
     "output_type": "stream",
     "text": [
      "        Date  Sales  MovingAverage\n",
      "0 2024-06-01    100          100.0\n",
      "1 2024-06-02    110          105.0\n",
      "2 2024-06-03    120          110.0\n",
      "3 2024-06-04    130          115.0\n",
      "4 2024-06-05    140          120.0\n",
      "5 2024-06-06    150          125.0\n",
      "6 2024-06-07    160          130.0\n",
      "7 2024-06-08    170          140.0\n",
      "8 2024-06-09    180          150.0\n",
      "9 2024-06-10    190          160.0\n"
     ]
    }
   ],
   "source": [
    "\n",
    "def calculate_moving_average(df):\n",
    "    df['Date'] = pd.to_datetime(df['Date'])\n",
    "    df = df.sort_values(by='Date')\n",
    "    df['MovingAverage'] = df['Sales'].rolling(window=7, min_periods=1).mean()\n",
    "    return df\n",
    "data = {'Date': ['2024-06-01', '2024-06-02', '2024-06-03', '2024-06-04', '2024-06-05', '2024-06-06', '2024-06-07', '2024-06-08', '2024-06-09', '2024-06-10'],\n",
    "        'Sales': [100, 110, 120, 130, 140, 150, 160, 170, 180, 190]}\n",
    "df = pd.DataFrame(data)\n",
    "df = calculate_moving_average(df)\n",
    "print(df)\n"
   ]
  },
  {
   "cell_type": "code",
   "execution_count": 62,
   "id": "b37f1608-978e-41f0-82f9-71c2c663ffd0",
   "metadata": {},
   "outputs": [
    {
     "data": {
      "text/html": [
       "<div>\n",
       "<style scoped>\n",
       "    .dataframe tbody tr th:only-of-type {\n",
       "        vertical-align: middle;\n",
       "    }\n",
       "\n",
       "    .dataframe tbody tr th {\n",
       "        vertical-align: top;\n",
       "    }\n",
       "\n",
       "    .dataframe thead th {\n",
       "        text-align: right;\n",
       "    }\n",
       "</style>\n",
       "<table border=\"1\" class=\"dataframe\">\n",
       "  <thead>\n",
       "    <tr style=\"text-align: right;\">\n",
       "      <th></th>\n",
       "      <th>Date</th>\n",
       "      <th>Sales</th>\n",
       "      <th>MovingAverage</th>\n",
       "    </tr>\n",
       "  </thead>\n",
       "  <tbody>\n",
       "    <tr>\n",
       "      <th>0</th>\n",
       "      <td>2024-06-01</td>\n",
       "      <td>100</td>\n",
       "      <td>100.0</td>\n",
       "    </tr>\n",
       "    <tr>\n",
       "      <th>1</th>\n",
       "      <td>2024-06-02</td>\n",
       "      <td>110</td>\n",
       "      <td>105.0</td>\n",
       "    </tr>\n",
       "    <tr>\n",
       "      <th>2</th>\n",
       "      <td>2024-06-03</td>\n",
       "      <td>120</td>\n",
       "      <td>110.0</td>\n",
       "    </tr>\n",
       "    <tr>\n",
       "      <th>3</th>\n",
       "      <td>2024-06-04</td>\n",
       "      <td>130</td>\n",
       "      <td>115.0</td>\n",
       "    </tr>\n",
       "    <tr>\n",
       "      <th>4</th>\n",
       "      <td>2024-06-05</td>\n",
       "      <td>140</td>\n",
       "      <td>120.0</td>\n",
       "    </tr>\n",
       "    <tr>\n",
       "      <th>5</th>\n",
       "      <td>2024-06-06</td>\n",
       "      <td>150</td>\n",
       "      <td>125.0</td>\n",
       "    </tr>\n",
       "    <tr>\n",
       "      <th>6</th>\n",
       "      <td>2024-06-07</td>\n",
       "      <td>160</td>\n",
       "      <td>130.0</td>\n",
       "    </tr>\n",
       "    <tr>\n",
       "      <th>7</th>\n",
       "      <td>2024-06-08</td>\n",
       "      <td>170</td>\n",
       "      <td>140.0</td>\n",
       "    </tr>\n",
       "    <tr>\n",
       "      <th>8</th>\n",
       "      <td>2024-06-09</td>\n",
       "      <td>180</td>\n",
       "      <td>150.0</td>\n",
       "    </tr>\n",
       "    <tr>\n",
       "      <th>9</th>\n",
       "      <td>2024-06-10</td>\n",
       "      <td>190</td>\n",
       "      <td>160.0</td>\n",
       "    </tr>\n",
       "  </tbody>\n",
       "</table>\n",
       "</div>"
      ],
      "text/plain": [
       "        Date  Sales  MovingAverage\n",
       "0 2024-06-01    100          100.0\n",
       "1 2024-06-02    110          105.0\n",
       "2 2024-06-03    120          110.0\n",
       "3 2024-06-04    130          115.0\n",
       "4 2024-06-05    140          120.0\n",
       "5 2024-06-06    150          125.0\n",
       "6 2024-06-07    160          130.0\n",
       "7 2024-06-08    170          140.0\n",
       "8 2024-06-09    180          150.0\n",
       "9 2024-06-10    190          160.0"
      ]
     },
     "execution_count": 62,
     "metadata": {},
     "output_type": "execute_result"
    }
   ],
   "source": [
    "df[[ \"Date\",  \"Sales\",  \"MovingAverage\"]]"
   ]
  },
  {
   "cell_type": "markdown",
   "id": "1891a1de-db75-4743-a358-6ffb0131dddf",
   "metadata": {},
   "source": [
    "Q11. You have a Pandas DataFrame df with a column 'Date'. Write a Python function that creates a new\n",
    "column 'Weekday' in the DataFrame. The 'Weekday' column should contain the weekday name (e.g.\n",
    "Monday, Tuesday) corresponding to each date in the 'Date' column.\n",
    "For example, if df contains the following values:\n",
    "Date\n",
    "0 2023-01-01\n",
    "1 2023-01-02\n",
    "2 2023-01-03\n",
    "3 2023-01-04\n",
    "4 2023-01-05\n",
    "Your function should create the following DataFrame:\n",
    "\n",
    "Date Weekday\n",
    "0 2023-01-01 Sunday\n",
    "1 2023-01-02 Monday\n",
    "2 2023-01-03 Tuesday\n",
    "3 2023-01-04 Wednesday\n",
    "4 2023-01-05 Thursday\n",
    "The function should return the modified DataFrame.\n"
   ]
  },
  {
   "cell_type": "code",
   "execution_count": 65,
   "id": "33ef8608-55c3-424a-ac29-203a204dbc13",
   "metadata": {},
   "outputs": [
    {
     "name": "stdout",
     "output_type": "stream",
     "text": [
      "        Date    Weekday\n",
      "0 2023-01-01     Sunday\n",
      "1 2023-01-02     Monday\n",
      "2 2023-01-03    Tuesday\n",
      "3 2023-01-04  Wednesday\n",
      "4 2023-01-05   Thursday\n"
     ]
    }
   ],
   "source": [
    "\n",
    "def add_weekday_column(df):\n",
    "    \n",
    "    df['Date'] = pd.to_datetime(df['Date'])\n",
    "    df['Weekday'] = df['Date'].dt.day_name()\n",
    "    return df\n",
    "data = {'Date': ['2023-01-01', '2023-01-02', '2023-01-03', '2023-01-04', '2023-01-05']}\n",
    "df = pd.DataFrame(data)\n",
    "df = add_weekday_column(df)\n",
    "print(df)\n"
   ]
  },
  {
   "cell_type": "code",
   "execution_count": 66,
   "id": "4f6a9407-c9f0-496f-92b5-9f45ba74153b",
   "metadata": {},
   "outputs": [
    {
     "data": {
      "text/html": [
       "<div>\n",
       "<style scoped>\n",
       "    .dataframe tbody tr th:only-of-type {\n",
       "        vertical-align: middle;\n",
       "    }\n",
       "\n",
       "    .dataframe tbody tr th {\n",
       "        vertical-align: top;\n",
       "    }\n",
       "\n",
       "    .dataframe thead th {\n",
       "        text-align: right;\n",
       "    }\n",
       "</style>\n",
       "<table border=\"1\" class=\"dataframe\">\n",
       "  <thead>\n",
       "    <tr style=\"text-align: right;\">\n",
       "      <th></th>\n",
       "      <th>Date</th>\n",
       "      <th>Weekday</th>\n",
       "    </tr>\n",
       "  </thead>\n",
       "  <tbody>\n",
       "    <tr>\n",
       "      <th>0</th>\n",
       "      <td>2023-01-01</td>\n",
       "      <td>Sunday</td>\n",
       "    </tr>\n",
       "    <tr>\n",
       "      <th>1</th>\n",
       "      <td>2023-01-02</td>\n",
       "      <td>Monday</td>\n",
       "    </tr>\n",
       "    <tr>\n",
       "      <th>2</th>\n",
       "      <td>2023-01-03</td>\n",
       "      <td>Tuesday</td>\n",
       "    </tr>\n",
       "    <tr>\n",
       "      <th>3</th>\n",
       "      <td>2023-01-04</td>\n",
       "      <td>Wednesday</td>\n",
       "    </tr>\n",
       "    <tr>\n",
       "      <th>4</th>\n",
       "      <td>2023-01-05</td>\n",
       "      <td>Thursday</td>\n",
       "    </tr>\n",
       "  </tbody>\n",
       "</table>\n",
       "</div>"
      ],
      "text/plain": [
       "        Date    Weekday\n",
       "0 2023-01-01     Sunday\n",
       "1 2023-01-02     Monday\n",
       "2 2023-01-03    Tuesday\n",
       "3 2023-01-04  Wednesday\n",
       "4 2023-01-05   Thursday"
      ]
     },
     "execution_count": 66,
     "metadata": {},
     "output_type": "execute_result"
    }
   ],
   "source": [
    "df[[\"Date\",\"Weekday\"]]"
   ]
  },
  {
   "cell_type": "markdown",
   "id": "f68861e7-9069-4ae9-8100-795959fd0d0c",
   "metadata": {},
   "source": [
    "Q12. Given a Pandas DataFrame df with a column 'Date' that contains timestamps, write a Python\n",
    "function to select all rows where the date is between '2023-01-01' and '2023-01-31'."
   ]
  },
  {
   "cell_type": "code",
   "execution_count": 67,
   "id": "4c64f2f3-6ad0-47a0-b777-abbee17036b8",
   "metadata": {},
   "outputs": [
    {
     "name": "stdout",
     "output_type": "stream",
     "text": [
      "        Date\n",
      "0 2023-01-01\n",
      "1 2023-01-15\n",
      "2 2023-01-31\n"
     ]
    }
   ],
   "source": [
    "\n",
    "def select_rows_between_dates(df):\n",
    "    df['Date'] = pd.to_datetime(df['Date'])\n",
    "    start_date = '2023-01-01'\n",
    "    end_date = '2023-01-31'\n",
    "    selected_rows = df[(df['Date'] >= start_date) & (df['Date'] <= end_date)]\n",
    "    return selected_rows\n",
    "data = {'Date': ['2023-01-01', '2023-01-15', '2023-01-31', '2023-02-01', '2023-02-15']}\n",
    "df = pd.DataFrame(data)\n",
    "selected_df = select_rows_between_dates(df)\n",
    "print(selected_df)\n"
   ]
  },
  {
   "cell_type": "code",
   "execution_count": 68,
   "id": "76f04fb1-449b-4bd0-980a-8116283aaa12",
   "metadata": {},
   "outputs": [
    {
     "data": {
      "text/html": [
       "<div>\n",
       "<style scoped>\n",
       "    .dataframe tbody tr th:only-of-type {\n",
       "        vertical-align: middle;\n",
       "    }\n",
       "\n",
       "    .dataframe tbody tr th {\n",
       "        vertical-align: top;\n",
       "    }\n",
       "\n",
       "    .dataframe thead th {\n",
       "        text-align: right;\n",
       "    }\n",
       "</style>\n",
       "<table border=\"1\" class=\"dataframe\">\n",
       "  <thead>\n",
       "    <tr style=\"text-align: right;\">\n",
       "      <th></th>\n",
       "      <th>Date</th>\n",
       "    </tr>\n",
       "  </thead>\n",
       "  <tbody>\n",
       "    <tr>\n",
       "      <th>0</th>\n",
       "      <td>2023-01-01</td>\n",
       "    </tr>\n",
       "    <tr>\n",
       "      <th>1</th>\n",
       "      <td>2023-01-15</td>\n",
       "    </tr>\n",
       "    <tr>\n",
       "      <th>2</th>\n",
       "      <td>2023-01-31</td>\n",
       "    </tr>\n",
       "  </tbody>\n",
       "</table>\n",
       "</div>"
      ],
      "text/plain": [
       "        Date\n",
       "0 2023-01-01\n",
       "1 2023-01-15\n",
       "2 2023-01-31"
      ]
     },
     "execution_count": 68,
     "metadata": {},
     "output_type": "execute_result"
    }
   ],
   "source": [
    "selected_df[[\"Date\"]]"
   ]
  },
  {
   "cell_type": "markdown",
   "id": "5e38e0c8-4ad5-40d1-a35e-dff7e7aa565b",
   "metadata": {},
   "source": [
    "Q13. To use the basic functions of pandas, what is the first and foremost necessary library that needs to\n",
    "be imported?"
   ]
  },
  {
   "cell_type": "markdown",
   "id": "c0fef4ea-6f87-4199-a8cc-e406fe3a492f",
   "metadata": {},
   "source": [
    "**ANSWER**:--\n",
    "\n",
    "To use the basic functions of pandas, we need to import the pandas library itself. \n",
    "\n",
    "we can do this using the following import statement:\n",
    "    "
   ]
  },
  {
   "cell_type": "code",
   "execution_count": 69,
   "id": "252f305b-8941-4c3e-9f61-09d05276b4f7",
   "metadata": {},
   "outputs": [],
   "source": [
    "import pandas as pd\n"
   ]
  },
  {
   "cell_type": "code",
   "execution_count": null,
   "id": "63d8530a-6172-44e0-8180-935df64f56f0",
   "metadata": {},
   "outputs": [],
   "source": []
  },
  {
   "cell_type": "code",
   "execution_count": null,
   "id": "b4cd811e-a53d-485c-8733-cd1d571e81ea",
   "metadata": {},
   "outputs": [],
   "source": []
  }
 ],
 "metadata": {
  "kernelspec": {
   "display_name": "Python 3 (ipykernel)",
   "language": "python",
   "name": "python3"
  },
  "language_info": {
   "codemirror_mode": {
    "name": "ipython",
    "version": 3
   },
   "file_extension": ".py",
   "mimetype": "text/x-python",
   "name": "python",
   "nbconvert_exporter": "python",
   "pygments_lexer": "ipython3",
   "version": "3.10.8"
  }
 },
 "nbformat": 4,
 "nbformat_minor": 5
}
